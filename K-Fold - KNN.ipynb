{
 "cells": [
  {
   "cell_type": "markdown",
   "metadata": {},
   "source": [
    "# K-Fold "
   ]
  },
  {
   "cell_type": "code",
   "execution_count": 9,
   "metadata": {},
   "outputs": [
    {
     "name": "stdout",
     "output_type": "stream",
     "text": [
      "0.5666666666666667\n"
     ]
    }
   ],
   "source": [
    "import numpy as np\n",
    "import pandas as pd\n",
    "from sklearn.model_selection import train_test_split\n",
    "from sklearn.neighbors import KNeighborsClassifier\n",
    "from sklearn import metrics\n",
    "from sklearn.model_selection import cross_val_score\n",
    "import pandas as pd\n",
    "from sklearn import model_selection\n",
    "df = pd.read_csv (r\"mtcars_for_manymerge.csv\")\n",
    "x = df[['cyl','hp']]\n",
    "y = df['Feedback']\n",
    "#x_train, x_test, y_train, y_test = train_test_split(x,y,random_state =5)\n",
    "knn = KNeighborsClassifier(n_neighbors=4)\n",
    "#kfold.fit(x,y)\n",
    "print(cross_val_score(knn,x,y,cv=10,scoring=\"accuracy\").mean())"
   ]
  },
  {
   "cell_type": "markdown",
   "metadata": {},
   "source": [
    "# checking K value for K_Fold"
   ]
  },
  {
   "cell_type": "code",
   "execution_count": 10,
   "metadata": {},
   "outputs": [
    {
     "name": "stdout",
     "output_type": "stream",
     "text": [
      "k= 2 0.37727272727272726\n",
      "k= 3 0.4067460317460318\n",
      "k= 4 0.4125\n",
      "k= 5 0.63\n",
      "k= 6 0.47222222222222227\n",
      "k= 7 0.5\n",
      "k= 8 0.5104166666666666\n",
      "k= 9 0.574074074074074\n",
      "k= 10 0.5666666666666667\n"
     ]
    }
   ],
   "source": [
    "kfold = model_selection.KFold(n_splits=10, random_state=7)\n",
    "\n",
    "for i in range(2,11):\n",
    "      print('k=',i,cross_val_score(knn,x,y,cv=i,scoring=\"accuracy\").mean())"
   ]
  },
  {
   "cell_type": "code",
   "execution_count": 12,
   "metadata": {},
   "outputs": [
    {
     "data": {
      "text/html": [
       "<div>\n",
       "<style scoped>\n",
       "    .dataframe tbody tr th:only-of-type {\n",
       "        vertical-align: middle;\n",
       "    }\n",
       "\n",
       "    .dataframe tbody tr th {\n",
       "        vertical-align: top;\n",
       "    }\n",
       "\n",
       "    .dataframe thead th {\n",
       "        text-align: right;\n",
       "    }\n",
       "</style>\n",
       "<table border=\"1\" class=\"dataframe\">\n",
       "  <thead>\n",
       "    <tr style=\"text-align: right;\">\n",
       "      <th></th>\n",
       "      <th>Cars</th>\n",
       "      <th>mpg</th>\n",
       "      <th>cyl</th>\n",
       "      <th>disp</th>\n",
       "      <th>hp</th>\n",
       "      <th>drat</th>\n",
       "      <th>Feedback</th>\n",
       "    </tr>\n",
       "  </thead>\n",
       "  <tbody>\n",
       "    <tr>\n",
       "      <th>0</th>\n",
       "      <td>MazdaRX4</td>\n",
       "      <td>29</td>\n",
       "      <td>7</td>\n",
       "      <td>160.0</td>\n",
       "      <td>120</td>\n",
       "      <td>3.90</td>\n",
       "      <td>1</td>\n",
       "    </tr>\n",
       "    <tr>\n",
       "      <th>1</th>\n",
       "      <td>MazdaRX4_WAG</td>\n",
       "      <td>30</td>\n",
       "      <td>6</td>\n",
       "      <td>160.0</td>\n",
       "      <td>118</td>\n",
       "      <td>3.90</td>\n",
       "      <td>0</td>\n",
       "    </tr>\n",
       "    <tr>\n",
       "      <th>2</th>\n",
       "      <td>Datsun_710</td>\n",
       "      <td>31</td>\n",
       "      <td>4</td>\n",
       "      <td>108.0</td>\n",
       "      <td>116</td>\n",
       "      <td>3.85</td>\n",
       "      <td>1</td>\n",
       "    </tr>\n",
       "    <tr>\n",
       "      <th>3</th>\n",
       "      <td>Hornet_4_Drive</td>\n",
       "      <td>29</td>\n",
       "      <td>6</td>\n",
       "      <td>258.0</td>\n",
       "      <td>110</td>\n",
       "      <td>3.08</td>\n",
       "      <td>1</td>\n",
       "    </tr>\n",
       "    <tr>\n",
       "      <th>4</th>\n",
       "      <td>Hornet_Sportabout</td>\n",
       "      <td>30</td>\n",
       "      <td>8</td>\n",
       "      <td>360.0</td>\n",
       "      <td>175</td>\n",
       "      <td>3.15</td>\n",
       "      <td>1</td>\n",
       "    </tr>\n",
       "    <tr>\n",
       "      <th>5</th>\n",
       "      <td>Valiant</td>\n",
       "      <td>33</td>\n",
       "      <td>6</td>\n",
       "      <td>225.0</td>\n",
       "      <td>105</td>\n",
       "      <td>2.76</td>\n",
       "      <td>1</td>\n",
       "    </tr>\n",
       "    <tr>\n",
       "      <th>6</th>\n",
       "      <td>Duster_360</td>\n",
       "      <td>30</td>\n",
       "      <td>8</td>\n",
       "      <td>360.0</td>\n",
       "      <td>245</td>\n",
       "      <td>3.21</td>\n",
       "      <td>0</td>\n",
       "    </tr>\n",
       "    <tr>\n",
       "      <th>7</th>\n",
       "      <td>Merc_240D</td>\n",
       "      <td>30</td>\n",
       "      <td>8</td>\n",
       "      <td>146.7</td>\n",
       "      <td>50</td>\n",
       "      <td>3.69</td>\n",
       "      <td>0</td>\n",
       "    </tr>\n",
       "    <tr>\n",
       "      <th>8</th>\n",
       "      <td>Merc_230</td>\n",
       "      <td>30</td>\n",
       "      <td>9</td>\n",
       "      <td>140.8</td>\n",
       "      <td>20</td>\n",
       "      <td>3.92</td>\n",
       "      <td>1</td>\n",
       "    </tr>\n",
       "  </tbody>\n",
       "</table>\n",
       "</div>"
      ],
      "text/plain": [
       "                Cars  mpg  cyl   disp   hp  drat  Feedback\n",
       "0           MazdaRX4   29    7  160.0  120  3.90         1\n",
       "1       MazdaRX4_WAG   30    6  160.0  118  3.90         0\n",
       "2         Datsun_710   31    4  108.0  116  3.85         1\n",
       "3     Hornet_4_Drive   29    6  258.0  110  3.08         1\n",
       "4  Hornet_Sportabout   30    8  360.0  175  3.15         1\n",
       "5            Valiant   33    6  225.0  105  2.76         1\n",
       "6         Duster_360   30    8  360.0  245  3.21         0\n",
       "7          Merc_240D   30    8  146.7   50  3.69         0\n",
       "8           Merc_230   30    9  140.8   20  3.92         1"
      ]
     },
     "execution_count": 12,
     "metadata": {},
     "output_type": "execute_result"
    }
   ],
   "source": [
    "test_data=pd.read_csv(r\"new_mtcars_for_manymerge.csv\")\n",
    "test_data"
   ]
  },
  {
   "cell_type": "code",
   "execution_count": 13,
   "metadata": {},
   "outputs": [
    {
     "name": "stdout",
     "output_type": "stream",
     "text": [
      "0.63\n"
     ]
    }
   ],
   "source": [
    "x = df[['cyl','hp']]\n",
    "y = df['Feedback']\n",
    "knn = KNeighborsClassifier(n_neighbors=4)\n",
    "print(cross_val_score(knn,x,y,cv=5,scoring=\"accuracy\").mean())"
   ]
  }
 ],
 "metadata": {
  "kernelspec": {
   "display_name": "Python 3",
   "language": "python",
   "name": "python3"
  },
  "language_info": {
   "codemirror_mode": {
    "name": "ipython",
    "version": 3
   },
   "file_extension": ".py",
   "mimetype": "text/x-python",
   "name": "python",
   "nbconvert_exporter": "python",
   "pygments_lexer": "ipython3",
   "version": "3.7.4"
  }
 },
 "nbformat": 4,
 "nbformat_minor": 2
}
